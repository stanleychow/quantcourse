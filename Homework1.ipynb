{
 "cells": [
  {
   "cell_type": "markdown",
   "id": "38d7926d",
   "metadata": {},
   "source": [
    "# Homework 1\n",
    "This homework provides practical finance applications of the python concepts learned in this module. Note that for most of these problems, there will be better solutions using pandas which we will learn. However, they are still useful for practicing and learning Python fundamentals.\n",
    "\n",
    "Solutions will be released next class."
   ]
  },
  {
   "cell_type": "markdown",
   "id": "76205f94",
   "metadata": {},
   "source": [
    "## Problem 1 -  Computing Dollar Profits\n",
    "\n",
    "- The \"pos\" dictionary below represents the dollars initially invested in each ticker. The \"ret\" dictionary represents the returns of each ticker\n",
    "- Please complete the function \"compute_profit\"\n",
    "- compute_profit takes as input \"pos\" and \"ret\" and should return a new dictionary that maps each ticker to the total dollar profit of that ticker (=ticker's return x dollars invested in ticker)"
   ]
  },
  {
   "cell_type": "code",
   "execution_count": null,
   "id": "509d1e58",
   "metadata": {},
   "outputs": [],
   "source": [
    "#question/original\n",
    "pos = {'AAPL':1000,'TSLA':500,'BAC':-250,'GS':1200}\n",
    "ret = {'AAPL':-0.01,'TSLA':0.05,'BAC':0.01,'GS':0.03}\n",
    "\n",
    "def compute_profit(pos,ret):\n",
    "    profit={}\n",
    "    # fill out the body here\n",
    "    # return a dict profit with keys=tickers and values=dollar profits\n",
    "    return profit"
   ]
  },
  {
   "cell_type": "code",
   "execution_count": 10,
   "id": "cf081369",
   "metadata": {},
   "outputs": [
    {
     "data": {
      "text/plain": [
       "{'AAPL': -10.0, 'TSLA': 25.0, 'BAC': -2.5, 'GS': 36.0}"
      ]
     },
     "execution_count": 10,
     "metadata": {},
     "output_type": "execute_result"
    }
   ],
   "source": [
    "#answer\n",
    "#pos dictionary = initial dollar investment in each ticker/company\n",
    "pos = {'AAPL':1000,'TSLA':500,'BAC':-250,'GS':1200}\n",
    "#ret dictionary = return of each ticker/company\n",
    "ret = {'AAPL':-0.01,'TSLA':0.05,'BAC':0.01,'GS':0.03}\n",
    "\n",
    "def compute_profit(pos,ret):\n",
    "    #profit = new dictionary\n",
    "    profit={}\n",
    "    # fill out the body here\n",
    "    for ticker in pos:\n",
    "        profit[ticker]=pos[ticker]*ret[ticker]\n",
    "    # return a dict profit with keys=tickers and values=dollar profits\n",
    "    return profit\n",
    "compute_profit(pos,ret)\n"
   ]
  },
  {
   "cell_type": "markdown",
   "id": "573d1dd6",
   "metadata": {},
   "source": [
    "## Problem 2 - Performance Stats\n",
    "- \"rets\" variable below is a list containing randomly generated, hypothetical daily returns\n",
    "- Please complete the function \"compute_stats\"\n",
    "- compute_stats takes as input rets and returns a new dictionary containing performance stats with (key:values) as specified below\n",
    "    1. \"avg\": average daily return\n",
    "    2. \"hit_rate\": percent of returns which are positive\n",
    "    3. \"max_ret\": max daily return"
   ]
  },
  {
   "cell_type": "code",
   "execution_count": null,
   "id": "0c2d8344",
   "metadata": {},
   "outputs": [],
   "source": [
    "# Generate random returns. \n",
    "# Don't worry about how to generate these for now.\n",
    "import numpy as np \n",
    "np.random.seed(2)\n",
    "rets = list(np.random.normal(0, 0.1/np.sqrt(252), 252))"
   ]
  },
  {
   "cell_type": "code",
   "execution_count": null,
   "id": "4a8d8e26",
   "metadata": {},
   "outputs": [],
   "source": [
    "def compute_stats(rets):\n",
    "    stats = {}\n",
    "    # fill out the body here\n",
    "    # return a dict stats with keys avg, hit_rate and max_ret\n",
    "    return stats"
   ]
  },
  {
   "cell_type": "markdown",
   "id": "dca0dae2",
   "metadata": {},
   "source": [
    "## Problem 3 - Signal Analysis\n",
    "- \"rets\" variable below is a list containing randomly generated, hypothetical daily returns\n",
    "- \"signal\" variable below represents a daily hypothetical signal that could be predictive of \"rets\"\n",
    "- Please complete the function \"analyze_signal\"\n",
    "- analyze_signal takes as input rets and signal and returns a new dictionary with (key:values) as specified below\n",
    "    1. \"pos_ret\": average daily return when the signal is > 1\n",
    "    2. \"neg_ret\": average daily return when the signal is < -1\n",
    "    3. \"spread\":pos_ret - neg_ret\n",
    "   \n",
    "Hint: Look up and use the python \"range\" function"
   ]
  },
  {
   "cell_type": "code",
   "execution_count": null,
   "id": "116dc54e",
   "metadata": {},
   "outputs": [],
   "source": [
    "# Generate random returns and a signal.\n",
    "# Don't worry about how to generate these for now.\n",
    "import numpy as np \n",
    "np.random.seed(2)\n",
    "rets = list(np.random.normal(0, 0.1/np.sqrt(252), 252))\n",
    "signal = list(np.random.normal(0,1,252))"
   ]
  },
  {
   "cell_type": "code",
   "execution_count": null,
   "id": "3957eb67",
   "metadata": {},
   "outputs": [],
   "source": [
    "def analyze_signal(rets,signal):\n",
    "    analysis = {}\n",
    "    # fill out the body here\n",
    "    # return the analysis dict with keys pos_ret, neg_ret, spread\n",
    "    return analysis"
   ]
  }
 ],
 "metadata": {
  "kernelspec": {
   "display_name": "Python 3 (ipykernel)",
   "language": "python",
   "name": "python3"
  },
  "language_info": {
   "codemirror_mode": {
    "name": "ipython",
    "version": 3
   },
   "file_extension": ".py",
   "mimetype": "text/x-python",
   "name": "python",
   "nbconvert_exporter": "python",
   "pygments_lexer": "ipython3",
   "version": "3.9.13"
  }
 },
 "nbformat": 4,
 "nbformat_minor": 5
}
